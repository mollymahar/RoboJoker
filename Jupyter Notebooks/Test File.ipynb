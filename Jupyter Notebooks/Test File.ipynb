{
 "cells": [
  {
   "cell_type": "code",
   "execution_count": 1,
   "metadata": {
    "collapsed": false
   },
   "outputs": [],
   "source": [
    "import json, requests \n",
    "\n",
    "def get_sentiment(joke_text):\n",
    "    # post to sentiment search API\n",
    "    url = 'http://sentiment.vivekn.com/api/text/'\n",
    "    response = requests.post(url=url, data=dict(txt = joke_text))\n",
    "    \n",
    "    # parse JSON response\n",
    "    result = json.loads(response.text)['result']\n",
    "    sentiment, confidence = result['sentiment'], result['confidence']\n",
    "    \n",
    "    # convert string result into numerical values\n",
    "    # s: sentiment sign, 1 for positive, 0 for neutral, -1 for negative\n",
    "    # I can also change it to output a length 3 vector with 0/1 value for positive, neutral, negative class\n",
    "    # c: confidence score as a float between 0 and 1\n",
    "    s = 1 if sentiment == 'Positive' else (-1 if sentiment == 'Negative' else 0)\n",
    "    c = float(confidence)/100\n",
    "    return s,c"
   ]
  },
  {
   "cell_type": "code",
   "execution_count": 2,
   "metadata": {
    "collapsed": false
   },
   "outputs": [
    {
     "data": {
      "text/plain": [
       "(0, 0.561001)"
      ]
     },
     "execution_count": 2,
     "metadata": {},
     "output_type": "execute_result"
    }
   ],
   "source": [
    "# test\n",
    "joke_1 = 'Today a man knocked on my door and asked for a small \\\n",
    "donation towards the local swimming pool. I gave him a glass of water.'\n",
    "get_sentiment(joke_1)"
   ]
  },
  {
   "cell_type": "code",
   "execution_count": 3,
   "metadata": {
    "collapsed": false
   },
   "outputs": [
    {
     "data": {
      "text/plain": [
       "(-1, 0.814667)"
      ]
     },
     "execution_count": 3,
     "metadata": {},
     "output_type": "execute_result"
    }
   ],
   "source": [
    "joke_2 = 'Two wrongs don\\'t make a right, take your parents as an example.'\n",
    "get_sentiment(joke_2)"
   ]
  },
  {
   "cell_type": "markdown",
   "metadata": {},
   "source": [
    "***"
   ]
  },
  {
   "cell_type": "code",
   "execution_count": 4,
   "metadata": {
    "collapsed": false
   },
   "outputs": [],
   "source": [
    "import pandas as pd\n",
    "import numpy as np\n",
    "import nltk, re, pprint\n",
    "\"\"\"\n",
    "Helper functions to load data and tokenize sentence\n",
    "\"\"\"\n",
    "PRINT_VERBOSE = True\n",
    "def cprint(s):\n",
    "    if PRINT_VERBOSE: print(s)\n",
    "\n",
    "# aggregate jokes and write to combined_jokes file\n",
    "def aggregate_jokes():\n",
    "    # comedy central jokes\n",
    "    cc_jokes = pd.read_csv('../all_cc_jokes.csv', sep = ',', index_col = 0, names = ['type', 'link', 'text'])\n",
    "    cprint('Number of jokes from Comedy Central: {}'.format(cc_jokes.shape[0]))\n",
    "    cprint('There are {} types of jokes on Comendy Central'.format(cc_jokes['type'].nunique()))\n",
    "    \n",
    "    # one line fun jokes\n",
    "    one_liner_jokes = pd.read_csv('../onelinefun.csv', encoding = \"ISO-8859-1\", sep = ',', \n",
    "                                  index_col = 0, skiprows = 1, \n",
    "                                  names = ['text', 'rating', 'num_ratings', 'tags'])\n",
    "    cprint('Number of jokes from One Liner Fun: {}'.format(one_liner_jokes.shape[0]))\n",
    "    \n",
    "    # combining both jokes\n",
    "    jokes_data = pd.concat([cc_jokes, one_liner_jokes], axis=0, ignore_index=True)\n",
    "    cprint('Total number of jokes: {}'.format(jokes_data.shape[0]))\n",
    "        \n",
    "    jokes = jokes_data[['text', 'type', 'tags', 'rating', 'num_ratings', 'link']]\n",
    "    jokes.to_csv('../combined_jokes.csv', index_label='ID')\n",
    "    \n",
    "    return True"
   ]
  },
  {
   "cell_type": "code",
   "execution_count": 6,
   "metadata": {
    "collapsed": false
   },
   "outputs": [
    {
     "name": "stdout",
     "output_type": "stream",
     "text": [
      "Number of jokes from Comedy Central: 15054\n",
      "There are 33 types of jokes on Comendy Central\n",
      "Number of jokes from One Liner Fun: 2800\n",
      "Total number of jokes: 17854\n"
     ]
    },
    {
     "data": {
      "text/plain": [
       "True"
      ]
     },
     "execution_count": 6,
     "metadata": {},
     "output_type": "execute_result"
    }
   ],
   "source": [
    "aggregate_jokes()"
   ]
  },
  {
   "cell_type": "code",
   "execution_count": 11,
   "metadata": {
    "collapsed": false
   },
   "outputs": [
    {
     "data": {
      "text/plain": [
       "(17854, 6)"
      ]
     },
     "execution_count": 11,
     "metadata": {},
     "output_type": "execute_result"
    }
   ],
   "source": [
    "jokes = pd.read_csv('../combined_jokes.csv', sep = ',', index_col = 0)\n",
    "jokes.shape"
   ]
  },
  {
   "cell_type": "code",
   "execution_count": 12,
   "metadata": {
    "collapsed": false
   },
   "outputs": [
    {
     "data": {
      "text/plain": [
       "Index(['text', 'type', 'tags', 'rating', 'num_ratings', 'link'], dtype='object')"
      ]
     },
     "execution_count": 12,
     "metadata": {},
     "output_type": "execute_result"
    }
   ],
   "source": [
    "jokes.columns"
   ]
  },
  {
   "cell_type": "code",
   "execution_count": 24,
   "metadata": {
    "collapsed": false
   },
   "outputs": [],
   "source": [
    "tiny_jokes = jokes[0:10]"
   ]
  },
  {
   "cell_type": "code",
   "execution_count": 18,
   "metadata": {
    "collapsed": false
   },
   "outputs": [
    {
     "data": {
      "text/plain": [
       "True"
      ]
     },
     "execution_count": 18,
     "metadata": {},
     "output_type": "execute_result"
    }
   ],
   "source": [
    "import os.path\n",
    "os.path.isfile('../combined_jokes.csv') \n"
   ]
  },
  {
   "cell_type": "code",
   "execution_count": 19,
   "metadata": {
    "collapsed": false
   },
   "outputs": [
    {
     "data": {
      "text/plain": [
       "False"
      ]
     },
     "execution_count": 19,
     "metadata": {},
     "output_type": "execute_result"
    }
   ],
   "source": [
    "os.path.isfile('hello_world.csv') \n"
   ]
  },
  {
   "cell_type": "code",
   "execution_count": 27,
   "metadata": {
    "collapsed": false
   },
   "outputs": [
    {
     "data": {
      "text/plain": [
       "[0, 1, 2, 3, 4, 5, 6, 7, 8, 9]"
      ]
     },
     "execution_count": 27,
     "metadata": {},
     "output_type": "execute_result"
    }
   ],
   "source": [
    "list(tiny_jokes.index)"
   ]
  },
  {
   "cell_type": "code",
   "execution_count": 28,
   "metadata": {
    "collapsed": false
   },
   "outputs": [
    {
     "data": {
      "text/plain": [
       "['A bear walks into a bar and says to the bartender, \"I\\'ll have a pint of beer and a.......... packet of peanuts.\" The bartender asks, \"Why the big pause?\"  ',\n",
       " 'A grasshopper walks into a bar, and the bartender says, \"Hey, we have a drink named after you!\" The grasshopper looks surprised and asks, \"You have a drink named Steve?\" ',\n",
       " \"Q: Why did the chewing gum cross the road? A: He was stuck to the chicken's foot.  \",\n",
       " 'A kangaroo walks into a bar and tells the bartender, \"Blood is the lipstick of all wounds.\" The bartender does not know how he said this or why.  ',\n",
       " 'A man and his pet giraffe walk into a bar and start drinking. As the night goes on, they get  drunk, and the giraffe finally passes out. The  man decides to go home. As he\\'s leaving, the man is approached by the barkeeper who says, \"Hey, you\\'re not gonna leave that lyin\\' here, are ya?\" \"Hmph,\" says the man. \"That\\'s not a lion -- it\\'s a giraffe.\"  ',\n",
       " 'Never play leapfrog with a unicorn. ',\n",
       " 'Two rednecks walk down a dirt path. One man has a big sack over his shoulder. The other man asks what\\'s in the sack.\\n \\n The first man says, \"I got me some chickens for dinner tonight.\"\\n \\n The other man asks how many chickens are in the sack.\\n \\n \"Well, I\\'ll tell you,\" replies the first redneck, \"If you can guess how many chickens I got in this here sack, I\\'ll give them both to you.\" ',\n",
       " \"Q: What are a woman's four favorite animals? A: A mink in the closet, a Jaguar in the garage, a tiger in the bedroom and an ass to pay for it all.  \",\n",
       " \"Cats are cool because you don't have to buy them. You see them on the street, take them home -- they're yours. You ain't never seen a cat being bought out of a pet store. They just sit in the pet store. They're under there like, 'Meow,' and you be looking at them like, 'Oh they're so cute. Let's go find one like that.' \",\n",
       " \"I read that, apparently, 13% of young men living in rural America lose their virginity to livestock. That is not right -- those poor cows. I'm thinking of starting the first annual 'Take Back the Field' rally. I've got some slogans for the cows, like, 'Moo Means No!' Or, 'Hey, stop treating us like women and start treating us like pieces of meat!' \"]"
      ]
     },
     "execution_count": 28,
     "metadata": {},
     "output_type": "execute_result"
    }
   ],
   "source": [
    "list(tiny_jokes['text'])"
   ]
  },
  {
   "cell_type": "code",
   "execution_count": null,
   "metadata": {
    "collapsed": true
   },
   "outputs": [],
   "source": []
  }
 ],
 "metadata": {
  "anaconda-cloud": {},
  "kernelspec": {
   "display_name": "Python [Root]",
   "language": "python",
   "name": "Python [Root]"
  },
  "language_info": {
   "codemirror_mode": {
    "name": "ipython",
    "version": 3
   },
   "file_extension": ".py",
   "mimetype": "text/x-python",
   "name": "python",
   "nbconvert_exporter": "python",
   "pygments_lexer": "ipython3",
   "version": "3.5.2"
  }
 },
 "nbformat": 4,
 "nbformat_minor": 0
}
