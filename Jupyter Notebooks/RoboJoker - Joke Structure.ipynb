{
 "cells": [
  {
   "cell_type": "code",
   "execution_count": 23,
   "metadata": {
    "collapsed": true
   },
   "outputs": [],
   "source": [
    "import nltk\n",
    "from nltk import word_tokenize"
   ]
  },
  {
   "cell_type": "code",
   "execution_count": 11,
   "metadata": {
    "collapsed": false
   },
   "outputs": [],
   "source": [
    "def joke_structure(joke):\n",
    "    '''This function takes in a joke as a single string. Then it calculates the length of the joke (in words),\n",
    "    the number of sentences in the joke, and whether (1) or not (0) the joke involves a question.'''\n",
    "    # one additional thought is to catch whether it is a joke AT somebody (uses \"you\") or if it's a general, \n",
    "    # situational joke that is always in the third person.\n",
    "    structure = []\n",
    "    \n",
    "    # first, calculate the length of the joke (I'll define this in words):\n",
    "    structure.append(count_words(joke))\n",
    "    \n",
    "    # then, calculate the number of sentences/segments in the joke:\n",
    "    structure.append(count_sents(joke))\n",
    "    \n",
    "    # finally, determine whether or not the joke involves a question:\n",
    "    structure.append(is_a_question(joke))\n",
    "    \n",
    "    return structure\n",
    "    \n",
    "def count_words(joke):\n",
    "    words = nltk.word_tokenize(joke)\n",
    "    print(words)\n",
    "    return len(words)\n",
    "    \n",
    "def count_sents(joke):\n",
    "    sent_tokenizer = nltk.data.load('tokenizers/punkt/english.pickle')\n",
    "    sents = sent_tokenizer.tokenize(joke) # Split text into sentences    \n",
    "    return len(sents)\n",
    "\n",
    "def is_a_question(joke):\n",
    "    words = nltk.word_tokenize(joke)\n",
    "    if \"?\" in words:\n",
    "        return 1\n",
    "    else:\n",
    "        return 0"
   ]
  },
  {
   "cell_type": "code",
   "execution_count": 19,
   "metadata": {
    "collapsed": true
   },
   "outputs": [],
   "source": [
    "test_joke = '''A dying man gives each of his best friends -- a lawyer, doctor and clergyman -- an envelope containing $25,000 in cash to be placed in his coffin. A week later the man dies and the friends each place an envelope in the coffin. Several months later, the clergyman confesses that he only put $10,000 in the envelope and sent the rest to a mission in South America. The doctor confesses that his envelope had only $8,000 because he donated to a medical charity. The lawyer is outraged, \"I am the only one who kept my promise to our dying friend. I want you both to know that the envelope I placed in the coffin contained my own personal check for the entire $25,000.\"'''"
   ]
  },
  {
   "cell_type": "code",
   "execution_count": 20,
   "metadata": {
    "collapsed": false
   },
   "outputs": [
    {
     "name": "stdout",
     "output_type": "stream",
     "text": [
      "['A', 'dying', 'man', 'gives', 'each', 'of', 'his', 'best', 'friends', '--', 'a', 'lawyer', ',', 'doctor', 'and', 'clergyman', '--', 'an', 'envelope', 'containing', '$', '25,000', 'in', 'cash', 'to', 'be', 'placed', 'in', 'his', 'coffin', '.', 'A', 'week', 'later', 'the', 'man', 'dies', 'and', 'the', 'friends', 'each', 'place', 'an', 'envelope', 'in', 'the', 'coffin', '.', 'Several', 'months', 'later', ',', 'the', 'clergyman', 'confesses', 'that', 'he', 'only', 'put', '$', '10,000', 'in', 'the', 'envelope', 'and', 'sent', 'the', 'rest', 'to', 'a', 'mission', 'in', 'South', 'America', '.', 'The', 'doctor', 'confesses', 'that', 'his', 'envelope', 'had', 'only', '$', '8,000', 'because', 'he', 'donated', 'to', 'a', 'medical', 'charity', '.', 'The', 'lawyer', 'is', 'outraged', ',', '``', 'I', 'am', 'the', 'only', 'one', 'who', 'kept', 'my', 'promise', 'to', 'our', 'dying', 'friend', '.', 'I', 'want', 'you', 'both', 'to', 'know', 'that', 'the', 'envelope', 'I', 'placed', 'in', 'the', 'coffin', 'contained', 'my', 'own', 'personal', 'check', 'for', 'the', 'entire', '$', '25,000', '.', \"''\"]\n",
      "[139, 6, 0]\n"
     ]
    }
   ],
   "source": [
    "print(joke_structure(test_joke))"
   ]
  }
 ],
 "metadata": {
  "kernelspec": {
   "display_name": "Python [Root]",
   "language": "python",
   "name": "Python [Root]"
  },
  "language_info": {
   "codemirror_mode": {
    "name": "ipython",
    "version": 3
   },
   "file_extension": ".py",
   "mimetype": "text/x-python",
   "name": "python",
   "nbconvert_exporter": "python",
   "pygments_lexer": "ipython3",
   "version": "3.5.2"
  }
 },
 "nbformat": 4,
 "nbformat_minor": 0
}
