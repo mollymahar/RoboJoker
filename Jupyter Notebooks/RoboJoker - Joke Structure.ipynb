{
 "cells": [
  {
   "cell_type": "code",
   "execution_count": 1,
   "metadata": {
    "collapsed": true
   },
   "outputs": [],
   "source": [
    "import nltk\n",
    "from nltk import word_tokenize\n",
    "import pandas as pd\n",
    "import numpy as np"
   ]
  },
  {
   "cell_type": "code",
   "execution_count": 2,
   "metadata": {
    "collapsed": false
   },
   "outputs": [],
   "source": [
    "def joke_structure(joke):\n",
    "    '''This function takes in a joke as a single string. Then it calculates the length of the joke (in words),\n",
    "    the number of sentences in the joke, and whether (1) or not (0) the joke involves a question.'''\n",
    "    # one additional thought is to catch whether it is a joke AT somebody (uses \"you\") or if it's a general, \n",
    "    # situational joke that is always in the third person.\n",
    "    structure = []\n",
    "    \n",
    "    # first, calculate the length of the joke (I'll define this in words):\n",
    "    structure.append(count_words(joke))\n",
    "    \n",
    "    # then, calculate the number of sentences/segments in the joke:\n",
    "    structure.append(count_sents(joke))\n",
    "    \n",
    "    # finally, determine whether or not the joke involves a question:\n",
    "    structure.append(is_a_question(joke))\n",
    "    \n",
    "    return structure\n",
    "    \n",
    "def count_words(joke):\n",
    "    words = nltk.word_tokenize(joke)\n",
    "    return len(words)\n",
    "    \n",
    "def count_sents(joke):\n",
    "    sent_tokenizer = nltk.data.load('tokenizers/punkt/english.pickle')\n",
    "    sents = sent_tokenizer.tokenize(joke) # Split text into sentences    \n",
    "    return len(sents)\n",
    "\n",
    "def is_a_question(joke):\n",
    "    words = nltk.word_tokenize(joke)\n",
    "    if \"?\" in words:\n",
    "        return 1\n",
    "    else:\n",
    "        return 0"
   ]
  },
  {
   "cell_type": "code",
   "execution_count": 3,
   "metadata": {
    "collapsed": true
   },
   "outputs": [],
   "source": [
    "test_joke = '''A dying man gives each of his best friends -- a lawyer, doctor and clergyman -- an envelope containing $25,000 in cash to be placed in his coffin. A week later the man dies and the friends each place an envelope in the coffin. Several months later, the clergyman confesses that he only put $10,000 in the envelope and sent the rest to a mission in South America. The doctor confesses that his envelope had only $8,000 because he donated to a medical charity. The lawyer is outraged, \"I am the only one who kept my promise to our dying friend. I want you both to know that the envelope I placed in the coffin contained my own personal check for the entire $25,000.\"'''"
   ]
  },
  {
   "cell_type": "code",
   "execution_count": 4,
   "metadata": {
    "collapsed": false
   },
   "outputs": [],
   "source": [
    "# print(joke_structure(test_joke))"
   ]
  },
  {
   "cell_type": "code",
   "execution_count": 8,
   "metadata": {
    "collapsed": false
   },
   "outputs": [
    {
     "name": "stdout",
     "output_type": "stream",
     "text": [
      "(9076, 200)\n",
      "(9076, 3)\n"
     ]
    }
   ],
   "source": [
    "# append these features to an existing array\n",
    "data = pd.read_csv('../combined_jokes_unique.csv', sep = ',', index_col = 0)\n",
    "new_features = np.zeros((len(data),3))\n",
    "for i, joke in enumerate(data):\n",
    "    try:\n",
    "        new_features[i] = np.asarray(joke_structure(joke))\n",
    "    except:\n",
    "        pass\n",
    "existing_features = np.load('../docvec_unique.npy')\n",
    "print(existing_features.shape)\n",
    "print(new_features.shape)\n",
    "combined_features = np.append(existing_features, new_features, axis=1)\n",
    "np.save('../combined_features_unique.npy', combined_features)"
   ]
  },
  {
   "cell_type": "code",
   "execution_count": null,
   "metadata": {
    "collapsed": true
   },
   "outputs": [],
   "source": []
  }
 ],
 "metadata": {
  "anaconda-cloud": {},
  "kernelspec": {
   "display_name": "Python [Root]",
   "language": "python",
   "name": "Python [Root]"
  },
  "language_info": {
   "codemirror_mode": {
    "name": "ipython",
    "version": 2
   },
   "file_extension": ".py",
   "mimetype": "text/x-python",
   "name": "python",
   "nbconvert_exporter": "python",
   "pygments_lexer": "ipython2",
   "version": "2.7.12"
  }
 },
 "nbformat": 4,
 "nbformat_minor": 0
}
