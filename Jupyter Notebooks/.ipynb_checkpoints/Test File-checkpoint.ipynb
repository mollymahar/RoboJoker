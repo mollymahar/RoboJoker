{
 "cells": [
  {
   "cell_type": "code",
   "execution_count": 1,
   "metadata": {
    "collapsed": false
   },
   "outputs": [],
   "source": [
    "import json, requests \n",
    "\n",
    "def get_sentiment(joke_text):\n",
    "    # post to sentiment search API\n",
    "    url = 'http://sentiment.vivekn.com/api/text/'\n",
    "    response = requests.post(url=url, data=dict(txt = joke_text))\n",
    "    \n",
    "    # parse JSON response\n",
    "    result = json.loads(response.text)['result']\n",
    "    sentiment, confidence = result['sentiment'], result['confidence']\n",
    "    \n",
    "    # convert string result into numerical values\n",
    "    # s: sentiment sign, 1 for positive, 0 for neutral, -1 for negative\n",
    "    # I can also change it to output a length 3 vector with 0/1 value for positive, neutral, negative class\n",
    "    # c: confidence score as a float between 0 and 1\n",
    "    s = 1 if sentiment == 'Positive' else (-1 if sentiment == 'Negative' else 0)\n",
    "    c = float(confidence)/100\n",
    "    return s,c"
   ]
  },
  {
   "cell_type": "code",
   "execution_count": 2,
   "metadata": {
    "collapsed": false
   },
   "outputs": [
    {
     "data": {
      "text/plain": [
       "(0, 0.561001)"
      ]
     },
     "execution_count": 2,
     "metadata": {},
     "output_type": "execute_result"
    }
   ],
   "source": [
    "# test\n",
    "joke_1 = 'Today a man knocked on my door and asked for a small \\\n",
    "donation towards the local swimming pool. I gave him a glass of water.'\n",
    "get_sentiment(joke_1)"
   ]
  },
  {
   "cell_type": "code",
   "execution_count": 3,
   "metadata": {
    "collapsed": false
   },
   "outputs": [
    {
     "data": {
      "text/plain": [
       "(-1, 0.814667)"
      ]
     },
     "execution_count": 3,
     "metadata": {},
     "output_type": "execute_result"
    }
   ],
   "source": [
    "joke_2 = 'Two wrongs don\\'t make a right, take your parents as an example.'\n",
    "get_sentiment(joke_2)"
   ]
  },
  {
   "cell_type": "markdown",
   "metadata": {},
   "source": [
    "***"
   ]
  },
  {
   "cell_type": "code",
   "execution_count": null,
   "metadata": {
    "collapsed": true
   },
   "outputs": [],
   "source": [
    "\"\"\"\n",
    "Helper functions to load data and tokenize sentence\n",
    "\"\"\"\n",
    "PRINT_VERBOSE = True\n",
    "def cprint(s):\n",
    "    if PRINT_VERBOSE: print(s)\n",
    "\n",
    "# load jokes data\n",
    "def get_jokes_data(n = None, random_seed = None):\n",
    "    # Data processing\n",
    "    # comedy central jokes\n",
    "    cc_jokes = pd.read_csv('all_cc_jokes.csv', sep = ',', index_col = 0, names = ['type', 'link', 'text'])\n",
    "    cc_jokes_text = cc_jokes['text']\n",
    "    cprint('Number of jokes from Comedy Central: {}'.format(cc_jokes.shape[0]))\n",
    "    cprint('There are {} types of jokes on Comendy Central'.format(cc_jokes['type'].nunique()))\n",
    "    \n",
    "    # one liner jokes\n",
    "    one_liner_jokes = pd.read_csv('onelinefun.csv', encoding = \"ISO-8859-1\", sep = ',')\n",
    "    one_liner_jokes_text = one_liner_jokes['text']\n",
    "    cprint('Number of jokes from One Liner Fun: {}'.format(one_liner_jokes.shape[0]))\n",
    "    \n",
    "    # combining both jokes\n",
    "    all_jokes_text = pd.concat([cc_jokes_text, one_liner_jokes_text], axis=0, ignore_index=True)\n",
    "    cprint('Total number of jokes: {}'.format(all_jokes_text.shape[0]))\n",
    "    \n",
    "    # randomly select 1000 jokes\n",
    "    if n:\n",
    "        if random_seed:\n",
    "            np.random.seed(random_seed)\n",
    "            jokes_data = pd.Series(np.random.choice(all_jokes_text, size = n, replace = False))\n",
    "    \n",
    "    return jokes_data"
   ]
  }
 ],
 "metadata": {
  "anaconda-cloud": {},
  "kernelspec": {
   "display_name": "Python [Root]",
   "language": "python",
   "name": "Python [Root]"
  },
  "language_info": {
   "codemirror_mode": {
    "name": "ipython",
    "version": 3
   },
   "file_extension": ".py",
   "mimetype": "text/x-python",
   "name": "python",
   "nbconvert_exporter": "python",
   "pygments_lexer": "ipython3",
   "version": "3.5.2"
  }
 },
 "nbformat": 4,
 "nbformat_minor": 0
}
