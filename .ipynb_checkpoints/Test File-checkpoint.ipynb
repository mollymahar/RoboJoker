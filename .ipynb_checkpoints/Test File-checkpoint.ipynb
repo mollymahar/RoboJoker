{
 "cells": [
  {
   "cell_type": "code",
   "execution_count": 1,
   "metadata": {
    "collapsed": false
   },
   "outputs": [],
   "source": [
    "import json, requests \n",
    "\n",
    "def get_sentiment(joke_text):\n",
    "    # post to sentiment search API\n",
    "    url = 'http://sentiment.vivekn.com/api/text/'\n",
    "    response = requests.post(url=url, data=dict(txt = joke_text))\n",
    "    \n",
    "    # parse JSON response\n",
    "    result = json.loads(response.text)['result']\n",
    "    sentiment, confidence = result['sentiment'], result['confidence']\n",
    "    \n",
    "    # convert string result into numerical values\n",
    "    # s: sentiment sign, 1 for positive, 0 for neutral, -1 for negative\n",
    "    # I can also change it to output a length 3 vector with 0/1 value for positive, neutral, negative class\n",
    "    # c: confidence score as a float between 0 and 1\n",
    "    s = 1 if sentiment == 'Positive' else (-1 if sentiment == 'Negative' else 0)\n",
    "    c = float(confidence)/100\n",
    "    return s,c"
   ]
  },
  {
   "cell_type": "code",
   "execution_count": 2,
   "metadata": {
    "collapsed": false
   },
   "outputs": [
    {
     "data": {
      "text/plain": [
       "(0, 0.561001)"
      ]
     },
     "execution_count": 2,
     "metadata": {},
     "output_type": "execute_result"
    }
   ],
   "source": [
    "# test\n",
    "joke_1 = 'Today a man knocked on my door and asked for a small \\\n",
    "donation towards the local swimming pool. I gave him a glass of water.'\n",
    "get_sentiment(joke_1)"
   ]
  },
  {
   "cell_type": "code",
   "execution_count": 3,
   "metadata": {
    "collapsed": false
   },
   "outputs": [
    {
     "data": {
      "text/plain": [
       "(-1, 0.814667)"
      ]
     },
     "execution_count": 3,
     "metadata": {},
     "output_type": "execute_result"
    }
   ],
   "source": [
    "joke_2 = 'Two wrongs don\\'t make a right, take your parents as an example.'\n",
    "get_sentiment(joke_2)"
   ]
  }
 ],
 "metadata": {
  "anaconda-cloud": {},
  "kernelspec": {
   "display_name": "Python [Root]",
   "language": "python",
   "name": "Python [Root]"
  },
  "language_info": {
   "codemirror_mode": {
    "name": "ipython",
    "version": 3
   },
   "file_extension": ".py",
   "mimetype": "text/x-python",
   "name": "python",
   "nbconvert_exporter": "python",
   "pygments_lexer": "ipython3",
   "version": "3.5.2"
  }
 },
 "nbformat": 4,
 "nbformat_minor": 0
}
